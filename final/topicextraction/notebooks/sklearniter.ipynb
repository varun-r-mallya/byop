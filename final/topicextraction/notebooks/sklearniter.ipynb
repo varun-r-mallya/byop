{
 "cells": [
  {
   "cell_type": "markdown",
   "metadata": {},
   "source": [
    "<h3>The below code was copied from a Kaggle notebook to test if my model was achieving appropriate accuracy. It did."
   ]
  },
  {
   "cell_type": "code",
   "execution_count": 22,
   "metadata": {},
   "outputs": [],
   "source": [
    "from sklearn.feature_extraction.text import TfidfVectorizer\n",
    "from sklearn.decomposition import LatentDirichletAllocation\n",
    "from nltk.tokenize import RegexpTokenizer\n",
    "import pandas as pd\n",
    "import numpy as np"
   ]
  },
  {
   "cell_type": "code",
   "execution_count": 23,
   "metadata": {},
   "outputs": [],
   "source": [
    "df = pd.read_csv('./final_dataset_clean.csv')\n",
    "df.dropna(inplace=True)\n",
    "documents_list= df['review'].tolist()\n",
    "\n",
    "tokenizer = RegexpTokenizer(r'\\w+')\n",
    "\n"
   ]
  },
  {
   "cell_type": "code",
   "execution_count": 24,
   "metadata": {},
   "outputs": [],
   "source": [
    "tfidf = TfidfVectorizer(lowercase=True,\n",
    "                        stop_words='english',\n",
    "                        ngram_range = (1,1),\n",
    "                        tokenizer = tokenizer.tokenize)\n",
    "\n"
   ]
  },
  {
   "cell_type": "code",
   "execution_count": 25,
   "metadata": {},
   "outputs": [
    {
     "name": "stderr",
     "output_type": "stream",
     "text": [
      "/home/varunrmallya/Desktop/myrepo/byop/.venv/lib/python3.10/site-packages/sklearn/feature_extraction/text.py:525: UserWarning: The parameter 'token_pattern' will not be used since 'tokenizer' is not None'\n",
      "  warnings.warn(\n"
     ]
    }
   ],
   "source": [
    "train_data = tfidf.fit_transform(documents_list)   \n",
    "model=LatentDirichletAllocation(n_components=10)\n",
    "\n",
    "lda_matrix = model.fit_transform(train_data)\n",
    "\n",
    "lda_components=model.components_"
   ]
  },
  {
   "cell_type": "code",
   "execution_count": 26,
   "metadata": {},
   "outputs": [
    {
     "name": "stdout",
     "output_type": "stream",
     "text": [
      "Topic 0:  ['excellent', 'service', 'fast', 'food', 's', 'clean', 'friendly']\n",
      "Topic 1:  ['neutral', 'breakfast', 'tasty', 'usual', 'awful', 'beautiful', 'taste']\n",
      "Topic 2:  ['awesome', 'enjoyed', 'star', 'lovin', 'slowest', 'cleaner', 'junk']\n",
      "Topic 3:  ['open', 'hour', 'closed', 'drive', 'food', 'order', 'close']\n",
      "Topic 4:  ['poor', 'order', 'wrong', 'food', 'dont', 'time', 'service']\n",
      "Topic 5:  ['coffee', 'fry', 'best', 'cream', 'delicious', 'food', 'disapointed']\n",
      "Topic 6:  ['tablet', 'easy', 'bought', 'price', 'kindle', 'great', 'product']\n",
      "Topic 7:  ['rude', 'dirty', 'service', 'employee', 'manager', 'customer', 'place']\n",
      "Topic 8:  ['terrible', 'seat', 'service', 'food', 'time', 'crew', 'london']\n",
      "Topic 9:  ['order', 'place', 'food', 'drive', 'long', 'minute', 'time']\n"
     ]
    }
   ],
   "source": [
    "terms = tfidf.get_feature_names_out()\n",
    "\n",
    "for index, component in enumerate(lda_components):\n",
    "    zipped = zip(terms, component)\n",
    "    top_terms_key=sorted(zipped, key = lambda t: t[1], reverse=True)[:7]\n",
    "    top_terms_list=list(dict(top_terms_key).keys())\n",
    "    print(\"Topic \"+str(index)+\": \",top_terms_list)"
   ]
  },
  {
   "cell_type": "code",
   "execution_count": 28,
   "metadata": {},
   "outputs": [
    {
     "name": "stdout",
     "output_type": "stream",
     "text": [
      "Top terms for the new document:\n",
      "['coffee', 'fry', 'best', 'cream', 'delicious', 'food', 'disapointed']\n"
     ]
    }
   ],
   "source": [
    "new_doc = input()\n",
    "new_doc = [new_doc]\n",
    "new_doc_vector = tfidf.transform(new_doc)\n",
    "new_doc_topic = model.transform(new_doc_vector)\n",
    "\n",
    "top_topic_index = np.argmax(new_doc_topic)\n",
    "top_topic_terms = lda_components[top_topic_index]\n",
    "zipped = zip(terms, top_topic_terms)\n",
    "top_terms_key = sorted(zipped, key=lambda t: t[1], reverse=True)[:7]\n",
    "top_terms_list = list(dict(top_terms_key).keys())\n",
    "\n",
    "print(\"Top terms for the new document:\")\n",
    "print(top_terms_list)\n"
   ]
  }
 ],
 "metadata": {
  "kernelspec": {
   "display_name": ".venv",
   "language": "python",
   "name": "python3"
  },
  "language_info": {
   "codemirror_mode": {
    "name": "ipython",
    "version": 3
   },
   "file_extension": ".py",
   "mimetype": "text/x-python",
   "name": "python",
   "nbconvert_exporter": "python",
   "pygments_lexer": "ipython3",
   "version": "3.10.12"
  }
 },
 "nbformat": 4,
 "nbformat_minor": 2
}
