{
 "cells": [
  {
   "cell_type": "code",
   "execution_count": 1,
   "metadata": {},
   "outputs": [
    {
     "name": "stderr",
     "output_type": "stream",
     "text": [
      "/home/varunrmallya/Desktop/myrepo/byop/.venv/lib/python3.10/site-packages/torch/cuda/__init__.py:138: UserWarning: CUDA initialization: CUDA unknown error - this may be due to an incorrectly set up environment, e.g. changing env variable CUDA_VISIBLE_DEVICES after program start. Setting the available devices to be zero. (Triggered internally at ../c10/cuda/CUDAFunctions.cpp:108.)\n",
      "  return torch._C._cuda_getDeviceCount() > 0\n"
     ]
    }
   ],
   "source": [
    "import numpy as np\n",
    "import pandas as pd\n",
    "import spacy\n",
    "from spacy.matcher import Matcher\n",
    "\n",
    "nlp = spacy.load(\"en_core_web_sm\")"
   ]
  },
  {
   "cell_type": "code",
   "execution_count": 2,
   "metadata": {},
   "outputs": [],
   "source": [
    "matcher = Matcher(nlp.vocab)\n",
    "pattern = [{\"POS\": \"PROPN\"}] \n",
    "matcher.add(\"NAMEDENTITY\", [pattern])\n",
    "\n",
    "pattern = [{\"POS\": \"NOUN\"},] \n",
    "matcher.add(\"NOUNS\", [pattern])\n"
   ]
  },
  {
   "cell_type": "code",
   "execution_count": 3,
   "metadata": {},
   "outputs": [],
   "source": [
    "def fill_template(template, doc):\n",
    "    matches = matcher(doc)\n",
    "    for match_id, start, end in matches:\n",
    "        span = doc[start:end]\n",
    "        if match_id == nlp.vocab.strings[\"NAMEDENTITY\"]:\n",
    "            template = template.replace(\"{Named Entity}\", span.text) \n",
    "        else:\n",
    "            template = template.replace(\"{Named Entity}\", \"\")\n",
    "        if match_id == nlp.vocab.strings[\"NOUNS\"]:\n",
    "            template = template.replace(\"{Topic Keyword}\", span.text)\n",
    "    return template"
   ]
  },
  {
   "cell_type": "code",
   "execution_count": 4,
   "metadata": {},
   "outputs": [
    {
     "name": "stdout",
     "output_type": "stream",
     "text": [
      "We're thrilled you enjoyed . It makes us happy to hear that you liked the brick.\n"
     ]
    }
   ],
   "source": [
    "text = \"Exposed brick walls, sleek metal accents, and minimalist furniture give this coffee shop a modern edge. Sunlight streams through large windows, illuminating tables occupied by creative entrepreneurs and fashion-forward students. The air buzzes with conversation and the rhythmic clatter of the espresso machine.\"\n",
    "doc = nlp(text)\n",
    "set([ent.label_ for ent in doc.ents])\n",
    "filled_template = fill_template(\"We're thrilled you enjoyed {Named Entity}. It makes us happy to hear that you liked the {Topic Keyword}.\", doc)\n",
    "print(filled_template)"
   ]
  },
  {
   "cell_type": "code",
   "execution_count": 5,
   "metadata": {},
   "outputs": [
    {
     "data": {
      "text/plain": [
       "('Exposed brick walls', 0.002129589514728985)"
      ]
     },
     "execution_count": 5,
     "metadata": {},
     "output_type": "execute_result"
    }
   ],
   "source": [
    "import yake\n",
    "doc = \"Exposed brick walls, sleek metal accents, and minimalist furniture give this coffee shop a modern edge. Sunlight streams through large windows, illuminating tables occupied by creative entrepreneurs and fashion-forward students. The air buzzes with conversation and the rhythmic clatter of the espresso machine.\"\n",
    "kw_extractor = yake.KeywordExtractor()\n",
    "keywords = kw_extractor.extract_keywords(doc)\n",
    "keywords[0]"
   ]
  }
 ],
 "metadata": {
  "kernelspec": {
   "display_name": ".venv",
   "language": "python",
   "name": "python3"
  },
  "language_info": {
   "codemirror_mode": {
    "name": "ipython",
    "version": 3
   },
   "file_extension": ".py",
   "mimetype": "text/x-python",
   "name": "python",
   "nbconvert_exporter": "python",
   "pygments_lexer": "ipython3",
   "version": "3.10.12"
  }
 },
 "nbformat": 4,
 "nbformat_minor": 2
}
