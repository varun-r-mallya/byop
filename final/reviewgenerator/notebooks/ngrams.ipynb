{
 "cells": [
  {
   "cell_type": "code",
   "execution_count": 11,
   "metadata": {},
   "outputs": [],
   "source": [
    "import numpy as np\n",
    "import pandas as pd\n",
    "import spacy\n",
    "from spacy.matcher import Matcher\n",
    "\n",
    "nlp = spacy.load(\"en_core_web_sm\")"
   ]
  },
  {
   "cell_type": "code",
   "execution_count": 70,
   "metadata": {},
   "outputs": [],
   "source": [
    "matcher = Matcher(nlp.vocab)\n",
    "pattern = [{\"POS\": \"PROPN\"}]  # {\"POS\": \"PROPN\"}, {\"POS\": \"ADP\"}, {\"POS\": \"PROPN\"}\n",
    "matcher.add(\"NAMEDENTITY\", [pattern])\n",
    "\n",
    "pattern = [{\"POS\": \"NOUN\"}, {\"POS\": \"NOUN\"}]  #{\"POS\": \"NOUN\"}, {\"POS\": \"ADP\"}, {\"POS\": \"NOUN\"}\n"
   ]
  },
  {
   "cell_type": "code",
   "execution_count": 71,
   "metadata": {},
   "outputs": [],
   "source": [
    "def fill_template(template, doc):\n",
    "    matches = matcher(doc)\n",
    "    for match_id, start, end in matches:\n",
    "        span = doc[start:end]\n",
    "        if match_id == nlp.vocab.strings[\"NAMEDENTITY\"]:\n",
    "            template = template.replace(\"{Named Entity}\", span.text) \n",
    "        else:\n",
    "            template = template.replace(\"{Named Entity}\", \"\")\n",
    "        if match_id == nlp.vocab.strings[\"TOPICKEYWORD\"]:\n",
    "            template = template.replace(\"{Topic Keyword}\", span.text)\n",
    "    return template"
   ]
  },
  {
   "cell_type": "code",
   "execution_count": 76,
   "metadata": {},
   "outputs": [
    {
     "name": "stdout",
     "output_type": "stream",
     "text": [
      "We're thrilled you enjoyed {Named Entity}. It makes us happy to hear that you liked the {Topic Keyword}.\n"
     ]
    }
   ],
   "source": [
    "text = \"I hate that the pizza came in a torn up box.\"\n",
    "doc = nlp(text)\n",
    "set([ent.label_ for ent in doc.ents])\n",
    "filled_template = fill_template(\"We're thrilled you enjoyed {Named Entity}. It makes us happy to hear that you liked the {Topic Keyword}.\", doc)\n",
    "print(filled_template)"
   ]
  },
  {
   "cell_type": "code",
   "execution_count": 24,
   "metadata": {},
   "outputs": [
    {
     "name": "stdout",
     "output_type": "stream",
     "text": [
      "[(15578876784678163569, 0, 2)]\n"
     ]
    }
   ],
   "source": [
    "\n",
    "from spacy.matcher import Matcher\n",
    "\n",
    "matcher = Matcher(nlp.vocab)\n",
    "pattern = [{\"LOWER\": \"hello\"}, {\"LOWER\": \"world\"}]\n",
    "matcher.add(\"HelloWorld\", [pattern])\n",
    "doc = nlp(\"Hello World!\")\n",
    "matches = matcher(doc)\n",
    "print(matches)"
   ]
  }
 ],
 "metadata": {
  "kernelspec": {
   "display_name": ".venv",
   "language": "python",
   "name": "python3"
  },
  "language_info": {
   "codemirror_mode": {
    "name": "ipython",
    "version": 3
   },
   "file_extension": ".py",
   "mimetype": "text/x-python",
   "name": "python",
   "nbconvert_exporter": "python",
   "pygments_lexer": "ipython3",
   "version": "3.10.12"
  }
 },
 "nbformat": 4,
 "nbformat_minor": 2
}
