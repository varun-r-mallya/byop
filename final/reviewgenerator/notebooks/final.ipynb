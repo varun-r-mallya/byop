{
 "cells": [
  {
   "cell_type": "code",
   "execution_count": 29,
   "metadata": {},
   "outputs": [],
   "source": [
    "import \n"
   ]
  },
  {
   "cell_type": "code",
   "execution_count": 41,
   "metadata": {},
   "outputs": [],
   "source": [
    "matcher = Matcher(nlp.vocab)\n",
    "pattern = [{\"POS\": \"PROPN\"}]  \n",
    "matcher.add(\"PROPERNOUN\", [pattern])\n",
    "\n",
    "pattern = [{\"POS\": \"NOUN\"}]\n",
    "matcher.add(\"NOUNS\", [pattern])\n"
   ]
  },
  {
   "cell_type": "code",
   "execution_count": 52,
   "metadata": {},
   "outputs": [],
   "source": [
    "def fill_template(template, doc):\n",
    "    matches = matcher(doc)\n",
    "    for match_id, start, end in matches:\n",
    "        span = doc[start:end]\n",
    "        if match_id == nlp.vocab.strings[\"PROPERNOUN\"]:\n",
    "            template = template.replace(\"{Named Entity}\", span.text) \n",
    "        else:\n",
    "            template = template.replace(\"{Named Entity}\", \"\")\n",
    "        if match_id == nlp.vocab.strings[\"NOUNS\"]:\n",
    "            template = template.replace(\"{Topic Keyword}\", span.text)\n",
    "    return template"
   ]
  },
  {
   "cell_type": "code",
   "execution_count": 54,
   "metadata": {},
   "outputs": [
    {
     "name": "stdout",
     "output_type": "stream",
     "text": [
      "We're thrilled you enjoyed . It makes us happy to hear that you liked the ingredients.\n"
     ]
    }
   ],
   "source": [
    "text = \"Fresh, seasonal ingredients, creative dishes, and a commitment to sustainability that makes you feel good.\"\n",
    "doc = nlp(text)\n",
    "set([ent.label_ for ent in doc.ents])\n",
    "filled_template = fill_template(\"We're thrilled you enjoyed {Named Entity}. It makes us happy to hear that you liked the {Topic Keyword}.\", doc)\n",
    "print(filled_template)"
   ]
  },
  {
   "cell_type": "code",
   "execution_count": 49,
   "metadata": {},
   "outputs": [
    {
     "name": "stdout",
     "output_type": "stream",
     "text": [
      "chains\n",
      "deal\n",
      "Wood\n",
      "pizzas\n",
      "ingredients\n",
      "location\n"
     ]
    }
   ],
   "source": [
    "text = \"Forget the chains, this is the real deal! Wood-fired pizzas with fresh, local ingredients, and a cozy, tucked-away location. \"\n",
    "doc = nlp(text)\n",
    "\n",
    "for token in doc:\n",
    "    if token.pos_ == \"PROPN\": \n",
    "        print(token.text) \n",
    "    if token.pos_ == \"NOUN\":\n",
    "        print(token.text)"
   ]
  },
  {
   "cell_type": "code",
   "execution_count": null,
   "metadata": {},
   "outputs": [],
   "source": []
  }
 ],
 "metadata": {
  "kernelspec": {
   "display_name": ".venv",
   "language": "python",
   "name": "python3"
  },
  "language_info": {
   "codemirror_mode": {
    "name": "ipython",
    "version": 3
   },
   "file_extension": ".py",
   "mimetype": "text/x-python",
   "name": "python",
   "nbconvert_exporter": "python",
   "pygments_lexer": "ipython3",
   "version": "3.10.12"
  }
 },
 "nbformat": 4,
 "nbformat_minor": 2
}
